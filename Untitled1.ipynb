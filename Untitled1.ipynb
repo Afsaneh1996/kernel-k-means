{
 "cells": [
  {
   "cell_type": "code",
   "execution_count": 1,
   "metadata": {},
   "outputs": [
    {
     "name": "stdout",
     "output_type": "stream",
     "text": [
      "data testing:  (400, 2)\n",
      "iter:  1\n",
      "centroid:  [[ 3.49462244 -0.02338352]\n",
      " [-3.06346458  0.89996875]]\n"
     ]
    },
    {
     "data": {
      "text/plain": [
       "<matplotlib.figure.Figure at 0x21ccf06ceb8>"
      ]
     },
     "metadata": {},
     "output_type": "display_data"
    },
    {
     "data": {
      "text/plain": [
       "<matplotlib.figure.Figure at 0x21cd128d390>"
      ]
     },
     "metadata": {},
     "output_type": "display_data"
    },
    {
     "name": "stdout",
     "output_type": "stream",
     "text": [
      "iter:  2\n",
      "centroid:  [[ 3.91384689 -0.04838385]\n",
      " [-2.27176795  0.64803974]]\n"
     ]
    },
    {
     "data": {
      "text/plain": [
       "<matplotlib.figure.Figure at 0x21cd128d3c8>"
      ]
     },
     "metadata": {},
     "output_type": "display_data"
    },
    {
     "name": "stdout",
     "output_type": "stream",
     "text": [
      "iter:  3\n",
      "centroid:  [[ 4.13918878 -0.01234785]\n",
      " [-1.76405567  0.39906082]]\n"
     ]
    },
    {
     "data": {
      "text/plain": [
       "<matplotlib.figure.Figure at 0x21cd12f4588>"
      ]
     },
     "metadata": {},
     "output_type": "display_data"
    },
    {
     "name": "stdout",
     "output_type": "stream",
     "text": [
      "iter:  4\n",
      "centroid:  [[ 4.33624947 -0.01787263]\n",
      " [-1.32843739  0.34835826]]\n"
     ]
    },
    {
     "data": {
      "text/plain": [
       "<matplotlib.figure.Figure at 0x21cd1339c88>"
      ]
     },
     "metadata": {},
     "output_type": "display_data"
    },
    {
     "name": "stdout",
     "output_type": "stream",
     "text": [
      "iter:  5\n",
      "centroid:  [[ 4.61720962 -0.09268   ]\n",
      " [-0.83866929  0.42188786]]\n"
     ]
    },
    {
     "data": {
      "text/plain": [
       "<matplotlib.figure.Figure at 0x21cd137e438>"
      ]
     },
     "metadata": {},
     "output_type": "display_data"
    },
    {
     "name": "stdout",
     "output_type": "stream",
     "text": [
      "iter:  6\n",
      "centroid:  [[ 4.90447881 -0.22810847]\n",
      " [-0.45363537  0.54147012]]\n"
     ]
    },
    {
     "data": {
      "text/plain": [
       "<matplotlib.figure.Figure at 0x21cd13bdbe0>"
      ]
     },
     "metadata": {},
     "output_type": "display_data"
    },
    {
     "name": "stdout",
     "output_type": "stream",
     "text": [
      "iter:  7\n",
      "centroid:  [[ 5.13444358 -0.31464862]\n",
      " [-0.19916429  0.56901593]]\n"
     ]
    },
    {
     "data": {
      "text/plain": [
       "<matplotlib.figure.Figure at 0x21cd13b1f60>"
      ]
     },
     "metadata": {},
     "output_type": "display_data"
    },
    {
     "name": "stdout",
     "output_type": "stream",
     "text": [
      "iter:  8\n",
      "centroid:  [[ 5.25486268 -0.32463301]\n",
      " [-0.07960995  0.53830262]]\n"
     ]
    },
    {
     "data": {
      "text/plain": [
       "<matplotlib.figure.Figure at 0x21cd1022da0>"
      ]
     },
     "metadata": {},
     "output_type": "display_data"
    },
    {
     "name": "stdout",
     "output_type": "stream",
     "text": [
      "iter:  9\n",
      "centroid:  [[ 5.29646311 -0.3217034 ]\n",
      " [-0.04129175  0.52184742]]\n"
     ]
    },
    {
     "data": {
      "text/plain": [
       "<matplotlib.figure.Figure at 0x21cd12907b8>"
      ]
     },
     "metadata": {},
     "output_type": "display_data"
    },
    {
     "name": "stdout",
     "output_type": "stream",
     "text": [
      "iter:  10\n",
      "centroid:  [[ 5.32650784 -0.30253382]\n",
      " [-0.01809592  0.49328776]]\n"
     ]
    },
    {
     "data": {
      "text/plain": [
       "<matplotlib.figure.Figure at 0x21cd12aeba8>"
      ]
     },
     "metadata": {},
     "output_type": "display_data"
    },
    {
     "name": "stdout",
     "output_type": "stream",
     "text": [
      "iter:  11\n",
      "centroid:  [[ 5.37166169 -0.27635274]\n",
      " [ 0.01686834  0.45484623]]\n"
     ]
    },
    {
     "data": {
      "text/plain": [
       "<matplotlib.figure.Figure at 0x21cd12be4e0>"
      ]
     },
     "metadata": {},
     "output_type": "display_data"
    },
    {
     "name": "stdout",
     "output_type": "stream",
     "text": [
      "iter:  12\n",
      "centroid:  [[ 5.37166169 -0.27635274]\n",
      " [ 0.01686834  0.45484623]]\n"
     ]
    },
    {
     "data": {
      "text/plain": [
       "<matplotlib.figure.Figure at 0x21ccd6084a8>"
      ]
     },
     "metadata": {},
     "output_type": "display_data"
    }
   ],
   "source": [
    "import numpy as np\n",
    "from matplotlib import pyplot as plt\n",
    "from matplotlib.pyplot import cm\n",
    "import time\n",
    "\n",
    "filePath1 = \"test1_data.txt\"\n",
    "filePath2 = \"test2_data.txt\"\n",
    "dataTesting1 = np.loadtxt(filePath1, delimiter=\" \")\n",
    "dataTesting2 = np.loadtxt(filePath2, delimiter=\" \")\n",
    "\n",
    "print(\"data testing: \", dataTesting1.shape)\n",
    "\n",
    "#define params\n",
    "k = 2 #numb of clusters\n",
    "iterationCounter = 0 #clustering iteration counter\n",
    "input = dataTesting1\n",
    "initCentroidMethod = \"badInit\" #options: random, kmeans++, badInit, zeroInit\n",
    "\n",
    "def initCentroid(dataIn, method, k):\n",
    "    if (method==\"random\"):\n",
    "        result = dataIn[np.random.choice(dataIn.shape[0], k, replace=False)]\n",
    "    if (method==\"kmeans++\"):\n",
    "        euclideanMatrixAllCentroid = np.ndarray(shape=(dataIn.shape[0], 0))\n",
    "        allCentroid = np.ndarray(shape=(0,dataIn.shape[1]))\n",
    "        first = dataIn[np.random.choice(dataIn.shape[0], 1, replace=False)]\n",
    "        allCentroid = np.concatenate((allCentroid, first), axis=0)\n",
    "        repeatedCent = np.repeat(first, dataIn.shape[0], axis=0)\n",
    "        deltaMatrix = abs(np.subtract(dataIn, repeatedCent))\n",
    "        euclideanMatrix = np.sqrt(np.square(deltaMatrix).sum(axis=1))\n",
    "        indexNextCent = (np.argmax(np.matrix(euclideanMatrix)))\n",
    "        if(k>1):\n",
    "            for a in range(1,k):\n",
    "                nextCent = np.matrix(dataIn[np.asscalar(indexNextCent),:])\n",
    "                allCentroid = np.concatenate((allCentroid, nextCent), axis=0)\n",
    "                for i in range(0,allCentroid.shape[0]):\n",
    "                    repeatedCent = np.repeat(allCentroid[i,:], dataIn.shape[0], axis=0)\n",
    "                    deltaMatrix = abs(np.subtract(dataIn, repeatedCent))\n",
    "                    euclideanMatrix = np.sqrt(np.square(deltaMatrix).sum(axis=1))\n",
    "                    euclideanMatrixAllCentroid = \\\n",
    "                        np.concatenate((euclideanMatrixAllCentroid, euclideanMatrix), axis=1)\n",
    "                euclideanFinal = np.min(np.matrix(euclideanMatrixAllCentroid), axis=1)\n",
    "                indexNextCent = np.argmax(np.matrix(euclideanFinal))\n",
    "        result = allCentroid\n",
    "    if (method==\"badInit\"):\n",
    "        allCentroid = np.ndarray(shape=(0,dataIn.shape[1]))\n",
    "        firstIndex = np.random.randint(0,dataIn.shape[0])\n",
    "        first = np.matrix(dataIn[firstIndex,:])\n",
    "        dataIn = np.delete(dataIn, firstIndex, 0)\n",
    "        allCentroid = np.concatenate((allCentroid, first), axis=0)\n",
    "        repeatedCent = np.repeat(first, dataIn.shape[0], axis=0)\n",
    "        deltaMatrix = abs(np.subtract(dataIn, repeatedCent))\n",
    "        euclideanMatrix = np.sqrt(np.square(deltaMatrix).sum(axis=1))\n",
    "        indexNextCent = (np.argmin(np.matrix(euclideanMatrix)))\n",
    "        if(k>1):\n",
    "            for a in range(1,k):\n",
    "                nextCent = np.matrix(dataIn[np.asscalar(indexNextCent),:])\n",
    "                dataIn = np.delete(dataIn, np.asscalar(indexNextCent), 0)\n",
    "                euclideanMatrixAllCentroid = np.ndarray(shape=(dataIn.shape[0], 0))\n",
    "                allCentroid = np.concatenate((allCentroid, nextCent), axis=0)\n",
    "                for i in range(0,allCentroid.shape[0]):\n",
    "                    repeatedCent = np.repeat(allCentroid[i,:], dataIn.shape[0], axis=0)\n",
    "                    deltaMatrix = abs(np.subtract(dataIn, repeatedCent))\n",
    "                    euclideanMatrix = np.sqrt(np.square(deltaMatrix).sum(axis=1))\n",
    "                    euclideanMatrixAllCentroid = \\\n",
    "                        np.concatenate((euclideanMatrixAllCentroid, euclideanMatrix), axis=1)\n",
    "                euclideanFinal = np.min(np.matrix(euclideanMatrixAllCentroid), axis=1)\n",
    "                indexNextCent = np.argmin(np.matrix(euclideanFinal))\n",
    "        result = allCentroid\n",
    "    if (method==\"zeroInit\"):\n",
    "        result = np.matrix(np.full((k,dataIn.shape[1]),0))\n",
    "\n",
    "    color = iter(cm.rainbow(np.linspace(0, 1, k)))\n",
    "    plt.figure(\"centroid initialization\")\n",
    "    plt.title(\"centroid initialization\")\n",
    "    plt.scatter(dataIn[:, 0], dataIn[:, 1], marker=\".\", s=100)\n",
    "    for i in range(0,k):\n",
    "        col = next(color)\n",
    "        plt.scatter((result[i, 0]), (result[i, 1]), marker=\"*\", s=400, c=col)\n",
    "        plt.text((result[i, 0]), (result[i, 1]), str(i+1), fontsize=20)\n",
    "    return result\n",
    "\n",
    "def plotClusterResult(listClusterMembers, centroid, iteration, converged):\n",
    "    n = listClusterMembers.__len__()\n",
    "    color = iter(cm.rainbow(np.linspace(0, 1, n)))\n",
    "    plt.figure(\"result\")\n",
    "    plt.clf()\n",
    "    plt.title(\"iteration-\" + iteration)\n",
    "    for i in range(n):\n",
    "        col = next(color)\n",
    "        memberCluster = np.asmatrix(listClusterMembers[i])\n",
    "        plt.scatter(np.ravel(memberCluster[:, 0]), np.ravel(memberCluster[:, 1]), marker=\".\", s=100, c=col)\n",
    "        plt.scatter((centroid[i, 0]), (centroid[i, 1]), marker=\"*\", s=400, c=col, edgecolors=\"black\")\n",
    "    if(converged == 0):\n",
    "        plt.ion()\n",
    "        plt.show()\n",
    "        plt.pause(0.1)\n",
    "    if (converged == 1):\n",
    "        plt.show(block=True)\n",
    "\n",
    "def kMeans(data, centroidInit):\n",
    "    nCluster = centroidInit.shape[0]\n",
    "    #looping until converged\n",
    "    global iterationCounter\n",
    "    centroidInit = np.matrix(centroidInit)\n",
    "    while(True):\n",
    "        iterationCounter +=1\n",
    "        euclideanMatrixAllCluster = np.ndarray(shape=(data.shape[0], 0))\n",
    "        #assign data to cluster whose centroid is the closest one\n",
    "        for i in range(0, nCluster):\n",
    "            centroidRepeated = np.repeat(centroidInit[i,:], data.shape[0], axis=0)\n",
    "            deltaMatrix = abs(np.subtract(data,centroidRepeated))\n",
    "            euclideanMatrix = np.sqrt(np.square(deltaMatrix).sum(axis=1))\n",
    "            euclideanMatrixAllCluster = \\\n",
    "                np.concatenate((euclideanMatrixAllCluster, euclideanMatrix), axis=1)\n",
    "        clusterMatrix = np.ravel(np.argmin(np.matrix(euclideanMatrixAllCluster), axis=1))\n",
    "        listClusterMember = [[] for i in range(k)]\n",
    "        for i in range(0, data.shape[0]):#assign data to cluster regarding cluster matrix\n",
    "            listClusterMember[np.asscalar(clusterMatrix[i])].append(data[i,:])\n",
    "        #calculate new centroid\n",
    "        newCentroid = np.ndarray(shape=(0, centroidInit.shape[1]))\n",
    "        for i in range(0,nCluster):\n",
    "            memberCluster = np.asmatrix(listClusterMember[i])\n",
    "            centroidCluster = memberCluster.mean(axis=0)\n",
    "            newCentroid = np.concatenate((newCentroid, centroidCluster), axis=0)\n",
    "        #break when converged\n",
    "        print(\"iter: \", iterationCounter)\n",
    "        print(\"centroid: \", newCentroid)\n",
    "        if((centroidInit == newCentroid).all()):\n",
    "            break\n",
    "        # update new centroid\n",
    "        centroidInit = newCentroid\n",
    "        plotClusterResult(listClusterMember, centroidInit, str(iterationCounter), 0)\n",
    "        time.sleep(1)\n",
    "    return listClusterMember, centroidInit\n",
    "\n",
    "centroidInit = initCentroid(input, initCentroidMethod, k)\n",
    "clusterResults, centroid = kMeans(input, centroidInit)\n",
    "plotClusterResult(clusterResults, centroid, str(iterationCounter) + \" (converged)\", 1)\n"
   ]
  },
  {
   "cell_type": "code",
   "execution_count": null,
   "metadata": {},
   "outputs": [],
   "source": []
  }
 ],
 "metadata": {
  "kernelspec": {
   "display_name": "Python 3",
   "language": "python",
   "name": "python3"
  },
  "language_info": {
   "codemirror_mode": {
    "name": "ipython",
    "version": 3
   },
   "file_extension": ".py",
   "mimetype": "text/x-python",
   "name": "python",
   "nbconvert_exporter": "python",
   "pygments_lexer": "ipython3",
   "version": "3.6.4"
  }
 },
 "nbformat": 4,
 "nbformat_minor": 2
}
